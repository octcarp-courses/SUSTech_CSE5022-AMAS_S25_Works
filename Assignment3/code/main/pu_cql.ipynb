{
 "cells": [
  {
   "cell_type": "markdown",
   "id": "42f01e172752d5b7",
   "metadata": {},
   "source": [
    "## CQL for Pursuit\n",
    "\n",
    "### Arguments"
   ]
  },
  {
   "cell_type": "code",
   "id": "878b31ffd54e59f5",
   "metadata": {
    "ExecuteTime": {
     "end_time": "2025-05-25T08:56:52.065538Z",
     "start_time": "2025-05-25T08:56:52.062135Z"
    }
   },
   "source": [
    "NUM_AGENTS: int = 6\n",
    "MAX_CYCLES: int = 150\n",
    "NUM_EPISODES: int = 200\n",
    "MAX_EPISODES_LEN: int = 150\n",
    "DQN_UPDATE_FREQ: int = 10\n",
    "\n",
    "RENDER: bool = False\n",
    "SHOW_PLOTS: bool = False"
   ],
   "outputs": [],
   "execution_count": 1
  },
  {
   "cell_type": "markdown",
   "id": "db1c720a04a1f2ca",
   "metadata": {},
   "source": [
    "### Main Trainer"
   ]
  },
  {
   "metadata": {
    "ExecuteTime": {
     "end_time": "2025-05-25T08:56:54.310097Z",
     "start_time": "2025-05-25T08:56:52.176808Z"
    }
   },
   "cell_type": "code",
   "source": [
    "from pettingzoo.sisl import pursuit_v4\n",
    "\n",
    "from agents import CqlAgent, CqlAgentConfig\n",
    "from trainer import cql_trainer\n",
    "from envs.utils import EnvConfig\n",
    "\n",
    "def main() -> None:\n",
    "    pursuit_cql_env: EnvConfig = EnvConfig(\n",
    "        name_abbr=\"pu\",\n",
    "        env_creator=pursuit_v4.parallel_env,\n",
    "        env_kwargs={\n",
    "            \"n_pursuers\": NUM_AGENTS,\n",
    "            \"max_cycles\": MAX_CYCLES,\n",
    "            \"x_size\": 12,\n",
    "            \"y_size\": 12,\n",
    "            \"n_catch\": 1,\n",
    "        },\n",
    "    )\n",
    "\n",
    "    env = pursuit_cql_env.get_env(\n",
    "        render_mode=\"human\" if RENDER else None,\n",
    "    )\n",
    "    states, info = env.reset()\n",
    "    obs_dims = dict([(agent_key, state.size) for agent_key, state in states.items()])\n",
    "    act_dims = dict([(agent_key, int(env.action_space(agent_key).n)) for agent_key in obs_dims.keys()])\n",
    "\n",
    "    def group_sample():\n",
    "        return {agent_key: int(env.action_space(agent_key).sample()) for agent_key in act_dims.keys()}\n",
    "\n",
    "    central_agent = CqlAgent(\n",
    "        sid='central_agent',\n",
    "        config=CqlAgentConfig(\n",
    "            obs_dims=obs_dims,\n",
    "            act_dims=act_dims,\n",
    "            hidden_dims=[2000, 5000],\n",
    "            batch_size=128,\n",
    "            lr=1e-3,\n",
    "            grad_clip_value=5,\n",
    "            gamma=0.95,\n",
    "            eps_start=0.9,\n",
    "            eps_decay=0.95,\n",
    "            eps_min=0.05,\n",
    "            mem_size=10_000,\n",
    "        ).infer_joint_space(),\n",
    "        act_sampler=group_sample,\n",
    "    )\n",
    "    print(\n",
    "        f\"joint_obs_dim: {central_agent.config.obs_dim}\\n\"\n",
    "        f\"joint_act_dim: {central_agent.config.act_dim}\"\n",
    "    )\n",
    "    # central_agent.target_net\n",
    "    cql_trainer(\n",
    "        env=env,\n",
    "        env_config=pursuit_cql_env,\n",
    "        central_agent=central_agent,\n",
    "        num_episodes=NUM_EPISODES,\n",
    "        max_episode_lengths=MAX_EPISODES_LEN,\n",
    "        dqn_update_freq=DQN_UPDATE_FREQ,\n",
    "        show_plot=SHOW_PLOTS,\n",
    "    )\n"
   ],
   "id": "a144e74ec0b228e8",
   "outputs": [],
   "execution_count": 2
  },
  {
   "cell_type": "markdown",
   "id": "84e3e466c8c48e37",
   "metadata": {},
   "source": [
    "### Run"
   ]
  },
  {
   "cell_type": "code",
   "id": "2908646ef0123089",
   "metadata": {
    "ExecuteTime": {
     "end_time": "2025-05-25T11:04:31.705997Z",
     "start_time": "2025-05-25T08:56:54.318572Z"
    }
   },
   "source": [
    "if __name__ == \"__main__\":\n",
    "    main()"
   ],
   "outputs": [
    {
     "name": "stdout",
     "output_type": "stream",
     "text": [
      "joint_obs_dim: 882\n",
      "joint_act_dim: 15625\n",
      "Episode 0: Avg return = -4.4823;\n",
      "-3.6143 vs. best: -inf, update TarNet\n",
      "-2.8177 vs. best: -3.6143, update TarNet\n",
      "-2.5104 vs. best: -2.8177, update TarNet\n",
      "Episode 10: Avg return = -4.4912;\n",
      "Episode 20: Avg return = -4.1001;\n",
      "-2.0688 vs. best: -2.5104, update TarNet\n",
      "Episode 30: Avg return = -3.5644;\n",
      "Episode 40: Avg return = -4.2704;\n",
      "Episode 50: Avg return = -3.0071;\n",
      "Episode 60: Avg return = -4.2786;\n",
      "Episode 70: Avg return = -3.7967;\n",
      "Episode 80: Avg return = -3.2081;\n",
      "-1.6056 vs. best: -2.0688, update TarNet\n",
      "Episode 90: Avg return = -3.8204;\n",
      "Episode 100: Avg return = -4.1419;\n",
      "Episode 110: Avg return = -4.2278;\n",
      "Episode 120: Avg return = -3.5583;\n",
      "Episode 130: Avg return = -2.7707;\n",
      "Episode 140: Avg return = -4.3173;\n",
      "Episode 150: Avg return = -2.7839;\n",
      "Episode 160: Avg return = -3.0593;\n",
      "Episode 170: Avg return = -3.7625;\n",
      "Episode 180: Avg return = -3.4412;\n",
      "Episode 190: Avg return = -3.8730;\n",
      "Episode 199: Avg return = -3.5462;\n"
     ]
    }
   ],
   "execution_count": 3
  }
 ],
 "metadata": {
  "kernelspec": {
   "display_name": "rl",
   "language": "python",
   "name": "python3"
  },
  "language_info": {
   "codemirror_mode": {
    "name": "ipython",
    "version": 3
   },
   "file_extension": ".py",
   "mimetype": "text/x-python",
   "name": "python",
   "nbconvert_exporter": "python",
   "pygments_lexer": "ipython3",
   "version": "3.12.9"
  }
 },
 "nbformat": 4,
 "nbformat_minor": 5
}
