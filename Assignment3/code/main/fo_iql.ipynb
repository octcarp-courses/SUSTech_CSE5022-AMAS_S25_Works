{
 "cells": [
  {
   "cell_type": "markdown",
   "id": "42f01e172752d5b7",
   "metadata": {},
   "source": [
    "## IQL for Foraging\n",
    "\n",
    "### Arguments"
   ]
  },
  {
   "cell_type": "code",
   "id": "878b31ffd54e59f5",
   "metadata": {
    "ExecuteTime": {
     "end_time": "2025-05-25T11:56:58.331330Z",
     "start_time": "2025-05-25T11:56:58.327316Z"
    }
   },
   "source": [
    "FORAGER_LEVELS: list[int] = [1, 2, 2, 3, 3]\n",
    "CROP_LEVELS: list[int] = [1, 1, 2, 2, 2, 2, 3, 3, 3, 3, 4, 4]\n",
    "MAX_CYCLES: int = 100\n",
    "NUM_EPISODES: int = 100\n",
    "MAX_EPISODES_LEN: int = 100\n",
    "# target DQN update/freeze frequency\n",
    "DQN_UPDATE_FREQ: int = 10\n",
    "\n",
    "RENDER: bool = False\n",
    "SHOW_PLOTS: bool = False"
   ],
   "outputs": [],
   "execution_count": 4
  },
  {
   "cell_type": "markdown",
   "id": "db1c720a04a1f2ca",
   "metadata": {},
   "source": [
    "### Main Trainer"
   ]
  },
  {
   "cell_type": "code",
   "id": "initial_id",
   "metadata": {
    "ExecuteTime": {
     "end_time": "2025-05-25T11:56:58.350251Z",
     "start_time": "2025-05-25T11:56:58.344721Z"
    }
   },
   "source": [
    "from envs import foraging\n",
    "from envs.utils import EnvConfig\n",
    "from agents import IqlAgent, IqlAgentConfig\n",
    "from trainer import iql_trainer\n",
    "\n",
    "\n",
    "def main() -> None:\n",
    "    foraging_config: EnvConfig = EnvConfig(\n",
    "        name_abbr=\"fo\",\n",
    "        env_creator=foraging.parallel_env,\n",
    "        env_kwargs={\n",
    "            \"n_foragers\": len(FORAGER_LEVELS),\n",
    "            \"forager_levels\": FORAGER_LEVELS,\n",
    "            \"n_crops\": len(CROP_LEVELS),\n",
    "            \"crop_levels\": CROP_LEVELS,\n",
    "            \"max_cycles\": MAX_CYCLES,\n",
    "            \"reward_idx\": 0,\n",
    "        },\n",
    "    )\n",
    "    env = foraging_config.get_env(\n",
    "        render_mode = \"human\" if RENDER else None,\n",
    "    )\n",
    "\n",
    "    states, info = env.reset()\n",
    "    obs_dims = dict([(agent_key, state.size) for agent_key, state in states.items()])\n",
    "    act_dims = dict([(agent_key, int(env.action_space(agent_key).n)) for agent_key in obs_dims.keys()])\n",
    "    print(\n",
    "        f\"Observation dimensions: {next(iter(obs_dims.values()))}\\n\"\n",
    "        f\"Action dimensions: {next(iter(act_dims.values()))}\"\n",
    "    )\n",
    "\n",
    "    cur_agents = {\n",
    "        agent_key: IqlAgent(\n",
    "            sid=agent_key,\n",
    "            config=IqlAgentConfig(\n",
    "                obs_dim=obs_dims[agent_key],\n",
    "                act_dim=act_dims[agent_key],\n",
    "                hidden_dims=[100, 50, 25],\n",
    "                batch_size=128,\n",
    "                lr=1e-3,\n",
    "                grad_clip_value=5,\n",
    "                gamma=0.95,\n",
    "                eps_start=0.9,\n",
    "                eps_decay=0.95,\n",
    "                eps_min=0.05,\n",
    "                mem_size=10_000,\n",
    "            ), act_sampler=env.action_space(agent_key).sample)\n",
    "        for agent_key in states.keys()\n",
    "    }\n",
    "    iql_trainer(\n",
    "        env=env,\n",
    "        env_config=foraging_config,\n",
    "        cur_agents=cur_agents,\n",
    "        num_episodes=NUM_EPISODES,\n",
    "        max_episode_lengths=MAX_EPISODES_LEN,\n",
    "        dqn_update_freq=DQN_UPDATE_FREQ,\n",
    "    )"
   ],
   "outputs": [],
   "execution_count": 5
  },
  {
   "cell_type": "markdown",
   "id": "84e3e466c8c48e37",
   "metadata": {},
   "source": [
    "### Run"
   ]
  },
  {
   "cell_type": "code",
   "id": "2908646ef0123089",
   "metadata": {
    "ExecuteTime": {
     "end_time": "2025-05-25T12:17:52.784665Z",
     "start_time": "2025-05-25T11:56:58.363693Z"
    }
   },
   "source": [
    "if __name__ == \"__main__\":\n",
    "    main()"
   ],
   "outputs": [
    {
     "name": "stdout",
     "output_type": "stream",
     "text": [
      "Observation dimensions: 98\n",
      "Action dimensions: 5\n",
      "Episode 0: Avg return = 1.2300;\n",
      "4.1720 vs best: -inf, update TarNet\n",
      "4.9940 vs best: 4.1720, update TarNet\n",
      "10.6560 vs best: 4.9940, update TarNet\n",
      "12.8147 vs best: 10.6560, update TarNet\n",
      "13.0100 vs best: 12.8147, update TarNet\n",
      "15.9973 vs best: 13.0100, update TarNet\n",
      "17.0473 vs best: 15.9973, update TarNet\n",
      "22.5620 vs best: 17.0473, update TarNet\n",
      "23.1734 vs best: 22.5620, update TarNet\n",
      "Episode 10: Avg return = 13.3689;\n",
      "23.6627 vs best: 23.1734, update TarNet\n",
      "25.2613 vs best: 23.6627, update TarNet\n",
      "Episode 20: Avg return = 14.1400;\n",
      "25.2867 vs best: 25.2613, update TarNet\n",
      "28.9620 vs best: 25.2867, update TarNet\n",
      "29.8347 vs best: 28.9620, update TarNet\n",
      "Episode 30: Avg return = 27.2747;\n",
      "Episode 40: Avg return = 10.5520;\n",
      "29.8373 vs best: 29.8347, update TarNet\n",
      "Episode 50: Avg return = 29.1347;\n",
      "34.5040 vs best: 29.8373, update TarNet\n",
      "Episode 60: Avg return = 16.4893;\n",
      "Episode 70: Avg return = 9.9740;\n",
      "Episode 80: Avg return = 17.0100;\n",
      "Episode 90: Avg return = 17.5670;\n",
      "Episode 99: Avg return = 19.0260;\n"
     ]
    }
   ],
   "execution_count": 6
  }
 ],
 "metadata": {
  "kernelspec": {
   "display_name": "rl",
   "language": "python",
   "name": "python3"
  },
  "language_info": {
   "codemirror_mode": {
    "name": "ipython",
    "version": 3
   },
   "file_extension": ".py",
   "mimetype": "text/x-python",
   "name": "python",
   "nbconvert_exporter": "python",
   "pygments_lexer": "ipython3",
   "version": "3.12.9"
  }
 },
 "nbformat": 4,
 "nbformat_minor": 5
}
