{
 "cells": [
  {
   "metadata": {},
   "cell_type": "markdown",
   "source": [
    "## CQL for Pursuit\n",
    "\n",
    "### Arguments"
   ],
   "id": "42f01e172752d5b7"
  },
  {
   "metadata": {},
   "cell_type": "code",
   "source": [
    "NUM_AGENTS: int = 2\n",
    "MAX_CYCLES: int = 50\n",
    "NUM_EPISODES: int = 100\n",
    "MAX_EPISODES_LEN: int = 25\n",
    "DQN_UPDATE_FREQ: int = 5"
   ],
   "id": "878b31ffd54e59f5",
   "outputs": [],
   "execution_count": null
  },
  {
   "metadata": {},
   "cell_type": "markdown",
   "source": "### Main Trainer",
   "id": "db1c720a04a1f2ca"
  },
  {
   "metadata": {},
   "cell_type": "code",
   "source": [
    "from agent import CqlAgent, CqlAgentConfig\n",
    "from trainer import cql_trainer\n",
    "from pettingzoo.sisl import pursuit_v4\n",
    "\n",
    "\n",
    "def main() -> None:\n",
    "    env = pursuit_v4.parallel_env(\n",
    "        n_pursuers=NUM_AGENTS,\n",
    "        max_cycles=MAX_CYCLES\n",
    "    )\n",
    "    states, info = env.reset()\n",
    "    obs_dims = dict([(agent_key, len(state)) for agent_key, state in states.items()])\n",
    "    act_dims = dict([(agent_key, int(env.action_space(agent_key).n)) for agent_key in obs_dims.keys()])\n",
    "\n",
    "    def group_sample():\n",
    "        return {agent_key: int(env.action_space(agent_key).sample()) for agent_key in act_dims.keys()}\n",
    "\n",
    "    central_agent = CqlAgent(sid='central_agent', config=CqlAgentConfig(\n",
    "        obs_dims=obs_dims,\n",
    "        act_dims=act_dims,\n",
    "        hidden_dim=128,\n",
    "        batch_size=64,\n",
    "        lr=1e-4,\n",
    "        grad_clip_value=0.5,\n",
    "        gamma=0.95,\n",
    "        eps_start=0.9,\n",
    "        eps_decay=0.95,\n",
    "        eps_min=0.05,\n",
    "        mem_size=1_000,\n",
    "    ).infer_joint_space(), act_sampler=group_sample)\n",
    "    print(f'joint_obs_dim: {central_agent.config.obs_dims}')\n",
    "    print(f'joint_obs_dim: {central_agent.config.obs_dim}')\n",
    "    print(f'joint_act_dim: {central_agent.config.act_dim}')\n",
    "    # central_agent.target_net\n",
    "    cql_trainer(env=env,\n",
    "                central_agent=central_agent,\n",
    "                num_episodes=NUM_EPISODES,\n",
    "                max_episode_lengths=MAX_EPISODES_LEN,\n",
    "                dqn_update_freq=DQN_UPDATE_FREQ,\n",
    "                )"
   ],
   "id": "initial_id",
   "outputs": [],
   "execution_count": null
  },
  {
   "metadata": {},
   "cell_type": "markdown",
   "source": "### Run",
   "id": "84e3e466c8c48e37"
  },
  {
   "metadata": {},
   "cell_type": "code",
   "source": [
    "if __name__ == \"__main__\":\n",
    "    main()"
   ],
   "id": "2908646ef0123089",
   "outputs": [],
   "execution_count": null
  }
 ],
 "metadata": {
  "kernelspec": {
   "display_name": "Python 3",
   "language": "python",
   "name": "python3"
  },
  "language_info": {
   "codemirror_mode": {
    "name": "ipython",
    "version": 2
   },
   "file_extension": ".py",
   "mimetype": "text/x-python",
   "name": "python",
   "nbconvert_exporter": "python",
   "pygments_lexer": "ipython2",
   "version": "2.7.6"
  }
 },
 "nbformat": 4,
 "nbformat_minor": 5
}
